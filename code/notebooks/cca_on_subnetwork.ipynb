{
 "cells": [
  {
   "cell_type": "markdown",
   "id": "e7b08094-e840-4832-a473-96b396bdad4f",
   "metadata": {},
   "source": [
    "### Is the subnetwork doing the same thing as the main RNN?"
   ]
  },
  {
   "cell_type": "code",
   "execution_count": 81,
   "id": "3e29d63d-408c-427d-87db-12ed3b0465b8",
   "metadata": {},
   "outputs": [
    {
     "name": "stdout",
     "output_type": "stream",
     "text": [
      "The autoreload extension is already loaded. To reload it, use:\n",
      "  %reload_ext autoreload\n",
      "C:\\Users\\david.bell\\work\\favorably_connected\\code\\notebooks\n"
     ]
    }
   ],
   "source": [
    "%load_ext autoreload\n",
    "%autoreload 2\n",
    "\n",
    "if __name__ == '__main__':\n",
    "    import sys\n",
    "    import os\n",
    "    from pathlib import Path\n",
    "    curr_file_path = Path(os.path.abspath(''))\n",
    "    print(curr_file_path)\n",
    "    sys.path.append(str(curr_file_path.parent))\n",
    "    sys.path.append(os.path.join(str(curr_file_path.parent.parent.parent), 'fixed-point-finder'))\n",
    "\n",
    "import numpy as np\n",
    "import glob2 as glob\n",
    "import matplotlib as mpl\n",
    "import matplotlib.pyplot as plt\n",
    "import torch\n",
    "from sklearn.decomposition import PCA\n",
    "from agents.networks.a2c_rnn_split_augmented import A2CRNNAugmented\n",
    "from agents.networks.gru_rnn import GRU_RNN\n",
    "from plot_utils import plot_fps\n",
    "from copy import deepcopy as copy\n",
    "from nb_analysis_tools import load_numpy, load_compressed_data, parse_all_sessions, gen_alignment_chart, find_odor_site_trajectories_by_patch_type\n",
    "from aux_funcs import compressed_write, logical_and\n",
    "from numpy.linalg import norm\n",
    "from sklearn.cross_decomposition import CCA\n",
    "from sklearn.model_selection import KFold\n",
    "from sklearn.linear_model import LinearRegression\n",
    "\n",
    "\n",
    "DATA_BASE_DIR = '../../results/rl_agent_outputs'\n",
    "PATCH_TYPES_PER_ENV = 3\n",
    "OBS_SIZE = PATCH_TYPES_PER_ENV + 1\n",
    "ACTION_SIZE = 2\n",
    "HIDDEN_SIZE = 128\n",
    "\n",
    "# SUBNETWORK PARAMS\n",
    "SUB_HIDDEN_SIZE = 32\n",
    "SUB_INPUT_SIZE = 2\n",
    "SUB_OUTPUT_SIZE = 1"
   ]
  },
  {
   "cell_type": "code",
   "execution_count": 22,
   "id": "9c964b94-e952-4a6a-9d9a-40de5bb68f34",
   "metadata": {},
   "outputs": [],
   "source": [
    "# Load weights from given `load_path`\n",
    "def load_network(load_path):\n",
    "    subnetwork = GRU_RNN(\n",
    "        input_size=SUB_INPUT_SIZE,\n",
    "        hidden_size=SUB_HIDDEN_SIZE,\n",
    "        output_size=SUB_OUTPUT_SIZE,\n",
    "        device='cpu',\n",
    "        var_noise=0,\n",
    "    )\n",
    "    \n",
    "    network = A2CRNNAugmented(\n",
    "        subnetwork=subnetwork,\n",
    "        input_size=OBS_SIZE + ACTION_SIZE + 1,\n",
    "        action_size=ACTION_SIZE,\n",
    "        hidden_size=HIDDEN_SIZE,\n",
    "        device='cpu',\n",
    "        var_noise=0,\n",
    "    )\n",
    "    \n",
    "    with torch.no_grad():\n",
    "        saved_checkpoint = torch.load(os.path.join(DATA_BASE_DIR, load_path).replace('\\\\','/'), weights_only=False)\n",
    "        if 'network_state_dict' in saved_checkpoint:\n",
    "            network.load_state_dict(saved_checkpoint['network_state_dict'])\n",
    "        else:\n",
    "            network.load_state_dict(saved_checkpoint)\n",
    "        network.eval()\n",
    "\n",
    "    return network\n",
    "\n",
    "\n",
    "# Load hidden states and behavior of network from `load path`\n",
    "def load_hidden_and_behavior(load_path):\n",
    "    data = load_numpy(os.path.join(DATA_BASE_DIR, load_path, 'hidden_state/*.npy').replace('\\\\','/'))\n",
    "    data = np.transpose(data, [2, 1, 0])\n",
    "    \n",
    "    flattened_data = data.reshape(data.shape[0], data.shape[1] * data.shape[2], order='C')\n",
    "    \n",
    "    pca = PCA()\n",
    "    pc_activities = pca.fit_transform(flattened_data.T)\n",
    "    pc_activities = pc_activities.T.reshape(data.shape, order='C')\n",
    "    \n",
    "    all_session_data = parse_all_sessions(\n",
    "        os.path.join(DATA_BASE_DIR, load_path, 'state'),\n",
    "        30,\n",
    "    )\n",
    "\n",
    "    return data, pc_activities, all_session_data, flattened_data"
   ]
  },
  {
   "cell_type": "code",
   "execution_count": 3,
   "id": "3f98b17f-ea54-4db6-be95-39b379c6c1f3",
   "metadata": {},
   "outputs": [],
   "source": [
    "weight_paths = [\n",
    "    # 'train_augmented_rnn_pretrained_2025-02-21_00_09_16_185395_var_noise_0.0001_activity_weight_1/rnn_weights/00050.pth',\n",
    "    # 'train_augmented_rnn_pretrained_2025-02-21_00_09_16_185395_var_noise_0.0001_activity_weight_1/rnn_weights/00100.pth',\n",
    "    # 'train_augmented_rnn_pretrained_2025-02-21_00_09_16_185395_var_noise_0.0001_activity_weight_1/rnn_weights/00150.pth',\n",
    "    # 'train_augmented_rnn_pretrained_2025-02-21_00_09_16_185395_var_noise_0.0001_activity_weight_1/rnn_weights/00200.pth',\n",
    "    # 'train_augmented_rnn_pretrained_2025-02-21_00_09_16_185395_var_noise_0.0001_activity_weight_1/rnn_weights/00250.pth',\n",
    "    # 'train_augmented_rnn_pretrained_2025-02-21_00_09_16_185395_var_noise_0.0001_activity_weight_1/rnn_weights/00300.pth',\n",
    "    # 'train_augmented_rnn_pretrained_2025-02-21_00_09_16_185395_var_noise_0.0001_activity_weight_1/rnn_weights/00500.pth',\n",
    "    # 'train_augmented_rnn_pretrained_2025-02-21_00_09_16_185395_var_noise_0.0001_activity_weight_1/rnn_weights/01000.pth',\n",
    "    # 'train_augmented_rnn_pretrained_2025-02-21_00_09_16_185395_var_noise_0.0001_activity_weight_1/rnn_weights/01500.pth',\n",
    "    'train_augmented_rnn_pretrained_2025-02-21_00_09_16_185395_var_noise_0.0001_activity_weight_1/rnn_weights/02000.pth',\n",
    "]\n",
    "\n",
    "hidden_and_behavior_paths = [\n",
    "    # 'test_augment_pretrain_2025-03-13_22_23_41_484413_var_noise_0_activity_weight_0_sn_00050',\n",
    "    # 'test_augment_pretrain_2025-03-13_22_29_02_566759_var_noise_0_activity_weight_0_sn_00100',\n",
    "    # 'test_augment_pretrain_2025-03-13_22_34_23_777244_var_noise_0_activity_weight_0_sn_00150',\n",
    "    # 'test_augment_pretrain_2025-03-13_22_39_01_813740_var_noise_0_activity_weight_0_sn_00200',\n",
    "    # 'test_augment_pretrain_2025-03-13_22_50_57_641228_var_noise_0_activity_weight_0_sn_00250',\n",
    "    # 'test_augment_pretrain_2025-03-13_22_55_59_298068_var_noise_0_activity_weight_0_sn_00300',\n",
    "    # 'test_augment_pretrain_2025-03-21_13_56_11_433378_var_noise_0_activity_weight_0_sn_00500',\n",
    "    # 'test_augment_pretrain_2025-03-21_14_00_24_563438_var_noise_0_activity_weight_0_sn_01000',\n",
    "    # 'test_augment_pretrain_2025-03-21_14_16_30_328359_var_noise_0_activity_weight_0_sn_01500',\n",
    "    'test_augment_pretrain_2025-03-21_13_41_00_398273_var_noise_0_activity_weight_0_sn_02000',\n",
    "]"
   ]
  },
  {
   "cell_type": "code",
   "execution_count": 23,
   "id": "ced3f826-cb6f-4a9f-9023-478f027f524e",
   "metadata": {},
   "outputs": [
    {
     "name": "stdout",
     "output_type": "stream",
     "text": [
      "['00000.pkl', '00001.pkl', '00002.pkl', '00003.pkl']\n"
     ]
    }
   ],
   "source": [
    "for i, (weight_path, hidden_and_behavior_path) in enumerate(zip(weight_paths, hidden_and_behavior_paths)):\n",
    "    hidden_activities, pc_activities, all_session_data, flattened_hidden = load_hidden_and_behavior(hidden_and_behavior_path)"
   ]
  },
  {
   "cell_type": "code",
   "execution_count": 5,
   "id": "fe77dc12-671a-4ce7-871c-3f6125c68420",
   "metadata": {},
   "outputs": [
    {
     "name": "stdout",
     "output_type": "stream",
     "text": [
      "(160, 120, 20000)\n"
     ]
    }
   ],
   "source": [
    "print(hidden_activities.shape)"
   ]
  },
  {
   "cell_type": "markdown",
   "id": "3b5df4d2-22ae-42fb-a97b-2fc39b733483",
   "metadata": {},
   "source": [
    "### Fit CCA with increasing number of components\n",
    "Attempt to predict subnetwork activity from main network. Also extract canonical correlations."
   ]
  },
  {
   "cell_type": "code",
   "execution_count": 111,
   "id": "74659529-f92a-4d5c-b961-3a38c58f3acc",
   "metadata": {},
   "outputs": [],
   "source": [
    "kf = KFold(n_splits=5)\n",
    "cca_scores = []\n",
    "cca_dims = [1, 3, 5, 10, 20, 32]\n",
    "for i in cca_dims:\n",
    "    pred_scores_for_n_comp = []\n",
    "    canonical_corrs_for_n_comp = []\n",
    "    for train, test in kf.split(flattened_data):\n",
    "        cca = CCA(n_components=i, max_iter=5000)\n",
    "        X_train = flattened_hidden.T[train, :HIDDEN_SIZE]\n",
    "        Y_train = flattened_hidden.T[train, HIDDEN_SIZE:]\n",
    "    \n",
    "        X_test = flattened_hidden.T[test, :HIDDEN_SIZE]\n",
    "        Y_test = flattened_hidden.T[test, HIDDEN_SIZE:]\n",
    "        \n",
    "        cca.fit(X_train, Y_train)\n",
    "\n",
    "        X_c, Y_c = cca.transform(X_test, Y_test) \n",
    "    \n",
    "        # Y_train_shuffled = copy(Y_train)\n",
    "        # ordering = np.arange(len(train))\n",
    "        # np.random.shuffle(ordering)\n",
    "        # Y_train_shuffled = Y_train_shuffled[ordering, :]\n",
    "        pred_score = cca.score(X_test, Y_test)\n",
    "        pred_scores_for_n_comp.append(pred_score)\n",
    "\n",
    "        canonical_corrs = [np.corrcoef(X_c[:, j], Y_c[:, j])[0, 1] for j in range(i)]\n",
    "        canonical_corrs_for_n_comp.append(canonical_corrs)\n",
    "        \n",
    "    cca_scores.append(np.mean(pred_scores_for_n_comp))"
   ]
  },
  {
   "cell_type": "markdown",
   "id": "d4cb5197-fa0b-4892-8e82-b7fc9f317068",
   "metadata": {},
   "source": [
    "### Plot prediction accuracy of CCA"
   ]
  },
  {
   "cell_type": "code",
   "execution_count": 112,
   "id": "9e9d5a32-f281-4f14-a1bb-87ba74bf5926",
   "metadata": {},
   "outputs": [
    {
     "data": {
      "image/png": "[encoded data removed]",
      "text/plain": [
       "<Figure size 480x320 with 1 Axes>"
      ]
     },
     "metadata": {},
     "output_type": "display_data"
    }
   ],
   "source": [
    "scale = 0.8\n",
    "fig, axs = plt.subplots(1, 1, figsize=(6 * scale, 4 * scale))\n",
    "\n",
    "# Plot the CCA scores\n",
    "axs.plot(cca_dims, cca_scores, linewidth=2)\n",
    "\n",
    "# Axis labels\n",
    "axs.set_xlabel(\"Number of CCA components\", fontsize=12)\n",
    "axs.set_ylabel(r\"$R^2$\", fontsize=12)\n",
    "\n",
    "# Thicker axis lines\n",
    "axs.spines['bottom'].set_linewidth(1.5)\n",
    "axs.spines['left'].set_linewidth(1.5)\n",
    "\n",
    "# Remove top and right borders\n",
    "axs.spines['top'].set_visible(False)\n",
    "axs.spines['right'].set_visible(False)\n",
    "axs.set_xticks(cca_dims)\n",
    "\n",
    "# Larger tick font sizes\n",
    "axs.tick_params(axis='both', which='major', labelsize=10)\n",
    "\n",
    "# Optional: tighter layout\n",
    "plt.tight_layout()"
   ]
  },
  {
   "cell_type": "markdown",
   "id": "d28539b4-17e6-4f86-a764-4323d435f49c",
   "metadata": {},
   "source": [
    "### Plot canonical correlations"
   ]
  },
  {
   "cell_type": "code",
   "execution_count": 113,
   "id": "ee8fd851-e433-4972-9ee6-7a3ee714c148",
   "metadata": {},
   "outputs": [
    {
     "name": "stdout",
     "output_type": "stream",
     "text": [
      "32\n",
      "32\n",
      "32\n",
      "32\n",
      "32\n"
     ]
    },
    {
     "data": {
      "image/png": "[encoded data removed]",
      "text/plain": [
       "<Figure size 480x320 with 1 Axes>"
      ]
     },
     "metadata": {},
     "output_type": "display_data"
    }
   ],
   "source": [
    "scale = 0.8\n",
    "fig, axs = plt.subplots(1, 1, figsize=(6 * scale, 4 * scale))\n",
    "\n",
    "# Plot the CCA scores\n",
    "for cc in canonical_corrs_for_n_comp:\n",
    "    print(len(cc))\n",
    "    axs.plot(np.arange(cca_dims[-1]), cc, linewidth=2)\n",
    "\n",
    "axs.set_ylim(0, 1.05)\n",
    "# Axis labels\n",
    "axs.set_xlabel(\"Canonical variable number\", fontsize=12)\n",
    "axs.set_ylabel(\"Correlation\", fontsize=12)\n",
    "\n",
    "# Thicker axis lines\n",
    "axs.spines['bottom'].set_linewidth(1.5)\n",
    "axs.spines['left'].set_linewidth(1.5)\n",
    "\n",
    "# Remove top and right borders\n",
    "axs.spines['top'].set_visible(False)\n",
    "axs.spines['right'].set_visible(False)\n",
    "axs.set_xticks([0, 10, 20, 30])\n",
    "\n",
    "# Larger tick font sizes\n",
    "axs.tick_params(axis='both', which='major', labelsize=10)\n",
    "\n",
    "# Optional: tighter layout\n",
    "plt.tight_layout()"
   ]
  },
  {
   "cell_type": "markdown",
   "id": "fca70e83-d8b4-44e4-be9e-2fc38642dc3a",
   "metadata": {},
   "source": [
    "### Predicting PCs of subnetwork from main RNN activity"
   ]
  },
  {
   "cell_type": "code",
   "execution_count": 85,
   "id": "b90013ea-f678-46f4-823b-9cf252ed7aa3",
   "metadata": {},
   "outputs": [
    {
     "name": "stdout",
     "output_type": "stream",
     "text": [
      "(2400000, 32)\n"
     ]
    }
   ],
   "source": [
    "main_hidden = hidden_activities[:HIDDEN_SIZE, ...]\n",
    "subnetwork_hidden = hidden_activities[HIDDEN_SIZE:, ...]\n",
    "\n",
    "flattened_main = main_hidden.reshape(main_hidden.shape[0], main_hidden.shape[1] * main_hidden.shape[2], order='C')\n",
    "flattened_ha = subnetwork_hidden.reshape(subnetwork_hidden.shape[0], subnetwork_hidden.shape[1] * subnetwork_hidden.shape[2], order='C')\n",
    "\n",
    "pca = PCA()\n",
    "pc_activities_sub = pca.fit_transform(flattened_ha.T)\n",
    "# pc_activities_sub = pc_activities_sub.T.reshape(subnetwork_hidden.shape, order='C')\n",
    "flattened_main = flattened_main.T\n",
    "print(pc_activities_sub.shape)"
   ]
  },
  {
   "cell_type": "code",
   "execution_count": 99,
   "id": "862fc56e-7b6c-43fe-8336-d5c3fffe09a9",
   "metadata": {},
   "outputs": [
    {
     "name": "stdout",
     "output_type": "stream",
     "text": [
      "(1920000,)\n",
      "(1920000,)\n",
      "(1920000,)\n",
      "(1920000,)\n",
      "(1920000,)\n",
      "(1920000,)\n",
      "(1920000,)\n",
      "(1920000,)\n",
      "(1920000,)\n",
      "(1920000,)\n",
      "(1920000,)\n",
      "(1920000,)\n",
      "(1920000,)\n",
      "(1920000,)\n",
      "(1920000,)\n",
      "(1920000,)\n",
      "(1920000,)\n",
      "(1920000,)\n",
      "(1920000,)\n",
      "(1920000,)\n",
      "(1920000,)\n",
      "(1920000,)\n",
      "(1920000,)\n",
      "(1920000,)\n",
      "(1920000,)\n",
      "(1920000,)\n",
      "(1920000,)\n",
      "(1920000,)\n",
      "(1920000,)\n",
      "(1920000,)\n"
     ]
    }
   ],
   "source": [
    "dims = np.arange(0, 6)\n",
    "splits = 5\n",
    "kf = KFold(n_splits=splits)\n",
    "all_r2 = np.empty((len(dims), splits))\n",
    "for i, d_i in enumerate(dims):\n",
    "    for s_i, (train, test) in enumerate(kf.split(flattened_main, pc_activities_sub)):\n",
    "        print(flattened_main[train, np.array(d_i)].shape)\n",
    "        reg = LinearRegression().fit(flattened_main[train, :], pc_activities_sub[train, np.array(d_i)])\n",
    "        score = reg.score(flattened_main[test, :], pc_activities_sub[test, np.array(d_i)])\n",
    "        all_r2[i, s_i] = score\n",
    "        "
   ]
  },
  {
   "cell_type": "code",
   "execution_count": 104,
   "id": "98d6b5d3-35db-4c55-843e-3843e9b3c353",
   "metadata": {},
   "outputs": [
    {
     "data": {
      "image/png": "[encoded data removed]",
      "text/plain": [
       "<Figure size 480x320 with 1 Axes>"
      ]
     },
     "metadata": {},
     "output_type": "display_data"
    }
   ],
   "source": [
    "scale = 0.8\n",
    "fig, axs = plt.subplots(1, 1, figsize=(6 * scale, 4 * scale))\n",
    "\n",
    "# Plot the CCA scores\n",
    "axs.scatter(dims + 1, all_r2.mean(axis=1), s=10)\n",
    "\n",
    "# Axis labels\n",
    "axs.set_xlabel(\"PC\", fontsize=12)\n",
    "axs.set_ylabel(r\"$R^2$\", fontsize=12)\n",
    "\n",
    "# Thicker axis lines\n",
    "axs.spines['bottom'].set_linewidth(1.5)\n",
    "axs.spines['left'].set_linewidth(1.5)\n",
    "\n",
    "# Remove top and right borders\n",
    "axs.spines['top'].set_visible(False)\n",
    "axs.spines['right'].set_visible(False)\n",
    "axs.set_xticks(dims + 1)\n",
    "\n",
    "# Larger tick font sizes\n",
    "axs.tick_params(axis='both', which='major', labelsize=10)\n",
    "\n",
    "# Optional: tighter layout\n",
    "plt.tight_layout()"
   ]
  },
  {
   "cell_type": "code",
   "execution_count": null,
   "id": "cb34ec2e-874a-43e0-b306-7f8330acf7e1",
   "metadata": {},
   "outputs": [],
   "source": []
  }
 ],
 "metadata": {
  "kernelspec": {
   "display_name": "Python 3 (ipykernel)",
   "language": "python",
   "name": "python3"
  },
  "language_info": {
   "codemirror_mode": {
    "name": "ipython",
    "version": 3
   },
   "file_extension": ".py",
   "mimetype": "text/x-python",
   "name": "python",
   "nbconvert_exporter": "python",
   "pygments_lexer": "ipython3",
   "version": "3.11.9"
  }
 },
 "nbformat": 4,
 "nbformat_minor": 5
}
